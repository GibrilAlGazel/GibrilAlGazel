{
  "nbformat": 4,
  "nbformat_minor": 0,
  "metadata": {
    "colab": {
      "provenance": [],
      "authorship_tag": "ABX9TyN/EEG8nP5+6rqPOD3nYTpu",
      "include_colab_link": true
    },
    "kernelspec": {
      "name": "python3",
      "display_name": "Python 3"
    },
    "language_info": {
      "name": "python"
    }
  },
  "cells": [
    {
      "cell_type": "markdown",
      "metadata": {
        "id": "view-in-github",
        "colab_type": "text"
      },
      "source": [
        "<a href=\"https://colab.research.google.com/github/GibrilAlGazel/GibrilAlGazel/blob/main/Untitled0.ipynb\" target=\"_parent\"><img src=\"https://colab.research.google.com/assets/colab-badge.svg\" alt=\"Open In Colab\"/></a>"
      ]
    },
    {
      "cell_type": "code",
      "execution_count": 1,
      "metadata": {
        "id": "nYFkDHoHNWfy",
        "colab": {
          "base_uri": "https://localhost:8080/"
        },
        "outputId": "438755fe-aaec-4df7-a14e-3eb030be6fd0"
      },
      "outputs": [
        {
          "output_type": "stream",
          "name": "stdout",
          "text": [
            "Belajar Python\n",
            "di belajarpython.com\n"
          ]
        }
      ],
      "source": [
        "\n",
        "print(\"Belajar Python\")\n",
        "print(\"di belajarpython.com\")"
      ]
    },
    {
      "cell_type": "code",
      "source": [
        "print(\"Belajar Python\")\n",
        "print(\"di belajarpython.com\")"
      ],
      "metadata": {
        "colab": {
          "base_uri": "https://localhost:8080/"
        },
        "id": "uTqv_SgQUSv6",
        "outputId": "2892a1cf-1b57-4833-a8d0-d39c8d84922f"
      },
      "execution_count": 2,
      "outputs": [
        {
          "output_type": "stream",
          "name": "stdout",
          "text": [
            "Belajar Python\n",
            "di belajarpython.com\n"
          ]
        }
      ]
    },
    {
      "cell_type": "markdown",
      "source": [
        "seconds_in_a_day = 24 * 60 * 60\n",
        "seconds_in_a_day"
      ],
      "metadata": {
        "id": "K45RlXdxU44h"
      }
    }
  ]
}